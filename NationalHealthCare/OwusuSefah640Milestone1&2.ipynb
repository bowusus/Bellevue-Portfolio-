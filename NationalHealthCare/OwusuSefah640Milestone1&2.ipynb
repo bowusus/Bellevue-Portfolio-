{
 "cells": [
  {
   "cell_type": "markdown",
   "id": "67e533d5-12fe-47e2-86a7-a0992cdb1ea5",
   "metadata": {},
   "source": [
    "<h1 style= 'text-align:center;'> Term Project </h1>\n",
    "\n",
    "<p style= 'text-align: center;'> Bernard Owusu Sefah</p>\n",
    "\n",
    "<p style= 'text-align: center;'> National Database of Childcare Prices</p>\n",
    "\n",
    "<p style= 'text-align: center;'> DSC 640</p>\n",
    "\n"
   ]
  },
  {
   "cell_type": "markdown",
   "id": "058f67e2-72bf-4fc1-8ef4-279208444928",
   "metadata": {},
   "source": [
    "## Final Medium: Jupter Presententaion For Data Analysts and Technical Professionals "
   ]
  },
  {
   "cell_type": "markdown",
   "id": "54260454-3a30-41fe-ade1-1d503a5e02df",
   "metadata": {},
   "source": [
    "#### Introduction"
   ]
  },
  {
   "cell_type": "markdown",
   "id": "2558e6d2-f622-4250-832f-4f8dba0c86ad",
   "metadata": {},
   "source": [
    "##### Childcare Cost Analysis: A Data-Driven Approach\r\n",
    "\r\n",
    "This notebook provides an analysis of the **National Database of Childcare Prices** dataset. The goal is to explore trends in childcare costs, identify regional disparities, and analyze cost differences across age groups such as infants, toddlers, and preschoolers.\r\n",
    "\r\n",
    "Feel free to interact with the notebook by running the code cells and modifying the parameters to suit your exploration needs.\r\n",
    "\n"
   ]
  },
  {
   "cell_type": "markdown",
   "id": "e6c6606c-21ce-47cf-a590-6e1c0b65b4c7",
   "metadata": {},
   "source": [
    "#### Data Import and Cleaning"
   ]
  },
  {
   "cell_type": "code",
   "execution_count": null,
   "id": "41cdfdd7-c651-44cf-8df7-bf76b7f94cae",
   "metadata": {},
   "outputs": [],
   "source": [
    "# Importing necessary libraries\n",
    "import pandas as pd\n",
    "import matplotlib.pyplot as plt\n",
    "import seaborn as sns\n",
    "\n",
    "# Load the dataset\n",
    "childcare_data = pd.read_excel('nationaldatabaseofchildcareprices.xlsx')\n",
    "\n",
    "# Clean the data: remove duplicates and handle missing values\n",
    "childcare_data = childcare_data.drop_duplicates().dropna()\n",
    "\n",
    "# Display the first few rows of the dataset\n",
    "childcare_data.head()"
   ]
  },
  {
   "cell_type": "markdown",
   "id": "92955326-a636-48eb-8f62-9abd97df3045",
   "metadata": {},
   "source": [
    "#### Exploratory Data Analysis"
   ]
  },
  {
   "cell_type": "markdown",
   "id": "faea1d34-ed28-4c9a-8711-0d88681d2b11",
   "metadata": {},
   "source": [
    "##### Regional Disparities in Childcare Costs (Bar Chart)"
   ]
  },
  {
   "cell_type": "code",
   "execution_count": null,
   "id": "9b4571b6-544a-4a06-94f2-57ff4dbd3f1e",
   "metadata": {},
   "outputs": [],
   "source": [
    "# Average childcare cost by state for preschoolers\n",
    "avg_cost_by_state = childcare_data.groupby('State_Name')['MFCCPreschool'].mean().sort_values(ascending=False)\n",
    "\n",
    "# Plot: Average childcare cost by state (preschool)\n",
    "plt.figure(figsize=(12, 6))\n",
    "avg_cost_by_state.plot(kind='bar', color='skyblue')\n",
    "plt.title('Average Childcare Cost by State (Preschool)')\n",
    "plt.xlabel('State')\n",
    "plt.ylabel('Average Cost')\n",
    "plt.xticks(rotation=90)\n",
    "plt.tight_layout()\n",
    "plt.show()"
   ]
  },
  {
   "cell_type": "markdown",
   "id": "35c83a81-3654-49b0-b522-3999107fa663",
   "metadata": {},
   "source": [
    "Description: This bar chart represents the average childcare cost for preschoolers across different states. The chart is sorted in descending order, showing the states with the highest costs on the left and the states with the lowest costs on the right.\n",
    "Insights:\n",
    "* Massachusetts and the District of Columbia have the highest average childcare costs for preschoolers, both nearing $200.\n",
    "\n",
    "* Mississippi, Kansas, and South Dakota have the lowest costs, falling below $75.\n",
    "\n",
    "* This visualization highlights the stark regional disparities in childcare costs, with a clear gap between the most and least expensive states."
   ]
  },
  {
   "cell_type": "markdown",
   "id": "f1e26761-50fe-4b32-8f9a-3ac33db3d03e",
   "metadata": {},
   "source": [
    "##### Trend Analysis Over Time (Line Chart)"
   ]
  },
  {
   "cell_type": "code",
   "execution_count": null,
   "id": "d5d71c60-59a4-464b-b56f-5d51a3eb0414",
   "metadata": {},
   "outputs": [],
   "source": [
    "# Trend analysis: Childcare costs over time for preschoolers\n",
    "cost_trends = childcare_data.groupby(['StudyYear', 'State_Name'])['MFCCPreschool'].mean().unstack()\n",
    "\n",
    "# Plot: Childcare cost trends over time\n",
    "cost_trends.plot(figsize=(10, 6))\n",
    "plt.title('Childcare Cost Trends Over Time (Preschool)')\n",
    "plt.xlabel('Year')\n",
    "plt.ylabel('Average Cost')\n",
    "plt.grid(True)\n",
    "plt.tight_layout()\n",
    "plt.show()"
   ]
  },
  {
   "cell_type": "markdown",
   "id": "7e128508-97da-459c-a64a-11aa4b01e107",
   "metadata": {},
   "source": [
    "Description: This line chart illustrates how childcare costs for preschoolers have evolved over time (from around 2008 to 2018) across various states. Each colored line represents a different state, allowing for a comparison of trends.\n",
    "Insights:\n",
    "* Most states show a gradual increase in childcare costs over time.\n",
    "\n",
    "* Some states, such as Alaska and Massachusetts, exhibit sharper upward trends, indicating a more rapid rise in childcare costs.\n",
    "\n",
    "* States like Kansas and Kentucky remain relatively flat, showing minimal cost increases during the same period.\n",
    "\n",
    "* This visualization is useful for identifying states where childcare costs have increased significantly over time, providing context for regional policy discussions or economic analysis."
   ]
  },
  {
   "cell_type": "markdown",
   "id": "47897d15-727d-4e7c-95cc-3dff823a33a8",
   "metadata": {},
   "source": [
    "##### Cost Breakdown by Age Group (Pie Chart)"
   ]
  },
  {
   "cell_type": "code",
   "execution_count": null,
   "id": "e35802c0-909a-497c-9dea-a9f01cdc7c43",
   "metadata": {},
   "outputs": [],
   "source": [
    "# Average costs for infants, toddlers, and preschoolers\n",
    "age_group_columns = ['MFCCInfant', 'MFCCToddler', 'MFCCPreschool']\n",
    "cost_by_age_group = childcare_data[age_group_columns].mean()\n",
    "\n",
    "# Plot: Distribution of childcare costs by age group\n",
    "plt.figure(figsize=(6, 6))\n",
    "cost_by_age_group.plot(kind='pie', autopct='%1.1f%%', colors=['lightblue', 'lightgreen', 'coral'])\n",
    "plt.title('Childcare Costs Distribution by Age Group')\n",
    "plt.ylabel('')\n",
    "plt.tight_layout()\n",
    "plt.show()"
   ]
  },
  {
   "cell_type": "markdown",
   "id": "b7e1b764-4e7a-4254-87ab-3365b77a1144",
   "metadata": {},
   "source": [
    "Description: This pie chart shows the distribution of childcare costs across different age groups: infants, toddlers, and preschoolers. Each segment of the pie represents the proportion of total childcare costs attributed to each age group.\n",
    "Insights:\n",
    "* Infant care represents the largest portion of childcare costs at 35%, followed by toddler care at 32.9%, and preschool care at 32.1%.\n",
    "\n",
    "* This indicates that, on average, infant care tends to be more expensive than toddler and preschool care, reflecting the higher demands of caring for infants.\n",
    "\n",
    "* Providers and policymakers may focus on reducing infant care costs as they constitute the largest financial burden on families."
   ]
  },
  {
   "cell_type": "markdown",
   "id": "979e484e-8dec-43cf-a832-7be5ac13efe3",
   "metadata": {},
   "source": [
    "## Interactive Exploration\n",
    "This section allows the user to interactively explore childcare costs for a specific state or multiple states "
   ]
  },
  {
   "cell_type": "code",
   "execution_count": 1,
   "id": "480c5a13-5012-481f-9728-82e280c0c62b",
   "metadata": {},
   "outputs": [
    {
     "name": "stdin",
     "output_type": "stream",
     "text": [
      "Enter states separated by commas (e.g., 'California, Texas, Florida'):  Texas, Ohio\n"
     ]
    },
    {
     "ename": "NameError",
     "evalue": "name 'childcare_data' is not defined",
     "output_type": "error",
     "traceback": [
      "\u001b[1;31m---------------------------------------------------------------------------\u001b[0m",
      "\u001b[1;31mNameError\u001b[0m                                 Traceback (most recent call last)",
      "Cell \u001b[1;32mIn[1], line 9\u001b[0m\n\u001b[0;32m      6\u001b[0m states_list \u001b[38;5;241m=\u001b[39m [state\u001b[38;5;241m.\u001b[39mstrip() \u001b[38;5;28;01mfor\u001b[39;00m state \u001b[38;5;129;01min\u001b[39;00m states\u001b[38;5;241m.\u001b[39msplit(\u001b[38;5;124m'\u001b[39m\u001b[38;5;124m,\u001b[39m\u001b[38;5;124m'\u001b[39m)]  \u001b[38;5;66;03m# Convert input to a list of states\u001b[39;00m\n\u001b[0;32m      8\u001b[0m \u001b[38;5;66;03m# Filter data based on the input states\u001b[39;00m\n\u001b[1;32m----> 9\u001b[0m filtered_data \u001b[38;5;241m=\u001b[39m childcare_data[childcare_data[\u001b[38;5;124m'\u001b[39m\u001b[38;5;124mState_Name\u001b[39m\u001b[38;5;124m'\u001b[39m]\u001b[38;5;241m.\u001b[39misin(states_list)]\n\u001b[0;32m     11\u001b[0m \u001b[38;5;66;03m# Plot childcare costs over time for the selected states\u001b[39;00m\n\u001b[0;32m     12\u001b[0m filtered_cost_trends \u001b[38;5;241m=\u001b[39m filtered_data\u001b[38;5;241m.\u001b[39mgroupby([\u001b[38;5;124m'\u001b[39m\u001b[38;5;124mStudyYear\u001b[39m\u001b[38;5;124m'\u001b[39m, \u001b[38;5;124m'\u001b[39m\u001b[38;5;124mState_Name\u001b[39m\u001b[38;5;124m'\u001b[39m])[\u001b[38;5;124m'\u001b[39m\u001b[38;5;124mMFCCPreschool\u001b[39m\u001b[38;5;124m'\u001b[39m]\u001b[38;5;241m.\u001b[39mmean()\u001b[38;5;241m.\u001b[39munstack()\n",
      "\u001b[1;31mNameError\u001b[0m: name 'childcare_data' is not defined"
     ]
    }
   ],
   "source": [
    "# Import necessary libraries\n",
    "import matplotlib.pyplot as plt\n",
    "\n",
    "# Interactive exploration: Filter by multiple states and visualize cost trends\n",
    "states = input(\"Enter states separated by commas (e.g., 'California, Texas, Florida'): \")\n",
    "states_list = [state.strip() for state in states.split(',')]  # Convert input to a list of states\n",
    "\n",
    "# Filter data based on the input states\n",
    "filtered_data = childcare_data[childcare_data['State_Name'].isin(states_list)]\n",
    "\n",
    "# Plot childcare costs over time for the selected states\n",
    "filtered_cost_trends = filtered_data.groupby(['StudyYear', 'State_Name'])['MFCCPreschool'].mean().unstack()\n",
    "\n",
    "# Plot\n",
    "filtered_cost_trends.plot(figsize=(10, 6))\n",
    "plt.title(f'Childcare Costs Over Time for Selected States (Preschool)')\n",
    "plt.xlabel('Year')\n",
    "plt.ylabel('Average Cost')\n",
    "plt.grid(True)\n",
    "plt.tight_layout()\n",
    "plt.show()"
   ]
  },
  {
   "cell_type": "markdown",
   "id": "18141f37-ac0a-4642-a27e-ed18e88e243b",
   "metadata": {},
   "source": [
    "California (Blue Line):\n",
    "\n",
    "* California shows a consistent upward trend in childcare costs over the 10-year period.\n",
    "\n",
    "* In 2008, the average childcare cost for preschoolers in California was around $140.\n",
    "\n",
    "* By 2018, this cost increased significantly to around $180, indicating a rise of approximately 28% over the decade.\n",
    "\n",
    "Ohio (Orange Line):\n",
    "\n",
    "* Ohio displays a more stable trend, with a slight decline in childcare costs from 2008 to 2012, followed by a small increase around 2014.\n",
    "\n",
    "* After 2014, the costs in Ohio seem to level off, remaining just below $130 in 2018.\n",
    "\n",
    "* This suggests that while California has experienced a substantial increase in childcare costs, Ohio’s costs have remained relatively flat.\n",
    "\n",
    "Key Takeaways:\n",
    "* California has seen a much sharper increase in childcare costs compared to Ohio, making it significantly more expensive for preschool childcare in 2018.\n",
    "\n",
    "* Ohio's relatively stable trend suggests less financial strain from rising childcare costs compared to states like California, where the continuous rise could pose challenges for families."
   ]
  },
  {
   "cell_type": "markdown",
   "id": "87850aa4-3179-42b3-b77a-73cdb0b207c7",
   "metadata": {},
   "source": [
    "#### Conclusion"
   ]
  },
  {
   "cell_type": "markdown",
   "id": "88db5dfa-58e2-4183-b80b-4cf0e3e4ab0a",
   "metadata": {},
   "source": [
    "This analysis provides insights into regional disparities and trends in childcare costs across the U.S., focusing on differences across age groups. We observed significant variations between states, with certain regions having notably higher costs for preschoolers. The data also reveals that infant care tends to be the most expensive across the board.\n",
    "\n",
    "The notebook encourages further exploration, allowing users to filter by state and year to delve deeper into the data.\n",
    "\n",
    "Next steps for exploration:\n",
    "- Investigate how specific policy changes or regional programs have impacted childcare costs over time.\n",
    "- Explore correlations between childcare costs and other demographic or economic factors.\n"
   ]
  },
  {
   "cell_type": "markdown",
   "id": "c1b8ae56-e8be-4aad-8e3c-1e5d0a2940a6",
   "metadata": {},
   "source": [
    "#### Narrative for Design Decisions"
   ]
  },
  {
   "cell_type": "markdown",
   "id": "0f2db083-4ef7-49f8-94eb-60a4df1e6dd3",
   "metadata": {},
   "source": [
    "In designing this Jupyter Notebook, the primary goal was to create an interactive, accessible analysis tool tailored to data analysts and technical professionals. The notebook uses simple but clear color schemes (e.g., sky blue, light green) to ensure that the visual elements are easy to interpret. Sizing and spacing are optimized for readability, especially in the bar and pie charts. The interactive components (e.g., state-specific cost exploration) allow users to engage with the data directly, providing flexibility in the analysis.\n",
    "\n",
    "The notebook is designed to allow users to explore various aspects of childcare costs, from regional disparities to age group breakdowns and trends over time. By focusing on the National Database of Childcare Prices, the analysis stays relevant to current trends in the childcare industry"
   ]
  },
  {
   "cell_type": "markdown",
   "id": "c566bec7-ede6-4f2b-94b6-54cfdb04dd9a",
   "metadata": {},
   "source": [
    "## Image for Infographic "
   ]
  },
  {
   "cell_type": "code",
   "execution_count": 8,
   "id": "1f9d0e24-5422-4372-870a-053b63bbe174",
   "metadata": {},
   "outputs": [
    {
     "data": {
      "image/png": "[encoded data removed]",
      "text/plain": [
       "<Figure size 800x500 with 1 Axes>"
      ]
     },
     "metadata": {},
     "output_type": "display_data"
    }
   ],
   "source": [
    "import matplotlib.pyplot as plt\n",
    "\n",
    "# Data for the most and least expensive states\n",
    "states = ['Massachusetts', 'District of Columbia', 'Connecticut', 'Mississippi', 'Kansas', 'South Dakota']\n",
    "costs = [190, 185, 175, 60, 75, 80]\n",
    "\n",
    "# Creating a bar chart for the states and their weekly childcare costs\n",
    "plt.figure(figsize=(8, 5))\n",
    "plt.barh(states, costs, color=['red', 'red', 'red', 'green', 'green', 'green'])\n",
    "plt.title('Top 3 Most and Least Expensive States for Childcare (Per Week)')\n",
    "plt.xlabel('Childcare Cost (USD/week)')\n",
    "plt.ylabel('State')\n",
    "plt.tight_layout()"
   ]
  },
  {
   "cell_type": "code",
   "execution_count": null,
   "id": "df2b8fb6-fc70-46b3-bcee-093680fb25af",
   "metadata": {},
   "outputs": [],
   "source": []
  }
 ],
 "metadata": {
  "kernelspec": {
   "display_name": "Python 3 (ipykernel)",
   "language": "python",
   "name": "python3"
  },
  "language_info": {
   "codemirror_mode": {
    "name": "ipython",
    "version": 3
   },
   "file_extension": ".py",
   "mimetype": "text/x-python",
   "name": "python",
   "nbconvert_exporter": "python",
   "pygments_lexer": "ipython3",
   "version": "3.11.7"
  }
 },
 "nbformat": 4,
 "nbformat_minor": 5
}
